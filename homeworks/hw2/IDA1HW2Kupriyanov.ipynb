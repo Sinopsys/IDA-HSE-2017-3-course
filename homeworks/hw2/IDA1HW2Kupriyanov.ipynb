{
 "cells": [
  {
   "cell_type": "markdown",
   "metadata": {},
   "source": [
    "# Домашнее задание 2"
   ]
  },
  {
   "cell_type": "markdown",
   "metadata": {},
   "source": [
    "Используя датасет [STUDENT ALCOHOL CONSUMPTION](https://archive.ics.uci.edu/ml/datasets/STUDENT+ALCOHOL+CONSUMPTION#) и статью \"USING\tDATA\tMINING\tTO\tPREDICT\tSECONDARY SCHOOL\tSTUDENT\tALCOHOL\tCONSUMPTION\" выполните следующие задания:"
   ]
  },
  {
   "cell_type": "markdown",
   "metadata": {},
   "source": [
    "### Предобработка (Max 2)\n",
    "- Приведите описание признаков датасета на русском языке с указанием типа данных (0.3 балла)\n",
    "- Предобработка данных (1.7)\n",
    "    - Проверьте наличие пропусков. В случае наличия пропусков заполните их медианными значениями (0.4)\n",
    "    - Подсчитайте количество людей, у которых матери с образованием \"0\" (0.4)\n",
    "    - Преобразуйте все номинальные признаки в несколько признаков с бинарным значение (0.4)\n",
    "    - Используя объект [SelectKBest](http://scikit-learn.org/stable/modules/generated/sklearn.feature_selection.SelectKBest.html#sklearn.feature_selection.SelectKBest) с параметром [f_regression](http://scikit-learn.org/stable/modules/generated/sklearn.feature_selection.f_regression.html#sklearn.feature_selection.f_regression)  выберите два признака, которые наиболее сильно связаны с признаком G3 (0.5)"
   ]
  },
  {
   "cell_type": "code",
   "execution_count": 1,
   "metadata": {
    "collapsed": true
   },
   "outputs": [],
   "source": [
    "import pandas as pd\n",
    "import numpy as np\n",
    "import matplotlib.pyplot as plt\n",
    "from sklearn.feature_selection import SelectKBest\n",
    "from sklearn.feature_selection import f_regression\n",
    "from sklearn.model_selection import train_test_split\n",
    "from sklearn.model_selection import StratifiedKFold\n",
    "from sklearn.model_selection import GridSearchCV\n",
    "from sklearn.metrics import mean_absolute_error\n",
    "from sklearn.metrics import mean_squared_error\n",
    "from sklearn.metrics import median_absolute_error\n",
    "from sklearn.metrics import r2_score\n",
    "from sklearn.metrics import accuracy_score\n",
    "from sklearn.ensemble import RandomForestClassifier\n",
    "from sklearn.ensemble import AdaBoostClassifier\n",
    "from sklearn.ensemble import GradientBoostingClassifier\n",
    "\n",
    "# Regressors. \n",
    "#\n",
    "from sklearn.ensemble import AdaBoostRegressor\n",
    "from sklearn.ensemble import BaggingRegressor\n",
    "from sklearn.ensemble import RandomForestRegressor\n",
    "from sklearn.ensemble import GradientBoostingRegressor\n",
    "from sklearn.linear_model import RidgeCV\n",
    "from sklearn.linear_model import SGDRegressor\n",
    "from sklearn.neighbors import KNeighborsRegressor\n",
    "from sklearn.neural_network import MLPRegressor\n",
    "from sklearn.tree import DecisionTreeRegressor\n",
    "\n",
    "%matplotlib inline\n",
    "plt.style.use('bmh')\n",
    "plt.rcParams['figure.figsize'] = (10, 6)"
   ]
  },
  {
   "cell_type": "code",
   "execution_count": 2,
   "metadata": {},
   "outputs": [
    {
     "data": {
      "text/plain": [
       "<mtrand.RandomState at 0x7fd0c3348f30>"
      ]
     },
     "execution_count": 2,
     "metadata": {},
     "output_type": "execute_result"
    }
   ],
   "source": [
    "# Зададим seed\n",
    "#\n",
    "RANDOM_SEED = 4118956\n",
    "np.random.RandomState(RANDOM_SEED)"
   ]
  },
  {
   "cell_type": "code",
   "execution_count": 3,
   "metadata": {
    "collapsed": true
   },
   "outputs": [],
   "source": [
    "df_stud_m = pd.read_csv('./student-mat.csv', sep=';')\n",
    "df_stud_p = pd.read_csv('./student-por.csv', sep=';')"
   ]
  },
  {
   "cell_type": "code",
   "execution_count": 4,
   "metadata": {
    "collapsed": true
   },
   "outputs": [],
   "source": [
    "df_stud_m['subj'] = 0\n",
    "df_stud_p['subj'] = 1"
   ]
  },
  {
   "cell_type": "code",
   "execution_count": 5,
   "metadata": {},
   "outputs": [
    {
     "data": {
      "text/html": [
       "<div>\n",
       "<style>\n",
       "    .dataframe thead tr:only-child th {\n",
       "        text-align: right;\n",
       "    }\n",
       "\n",
       "    .dataframe thead th {\n",
       "        text-align: left;\n",
       "    }\n",
       "\n",
       "    .dataframe tbody tr th {\n",
       "        vertical-align: top;\n",
       "    }\n",
       "</style>\n",
       "<table border=\"1\" class=\"dataframe\">\n",
       "  <thead>\n",
       "    <tr style=\"text-align: right;\">\n",
       "      <th></th>\n",
       "      <th>school</th>\n",
       "      <th>sex</th>\n",
       "      <th>age</th>\n",
       "      <th>address</th>\n",
       "      <th>famsize</th>\n",
       "      <th>Pstatus</th>\n",
       "      <th>Medu</th>\n",
       "      <th>Fedu</th>\n",
       "      <th>Mjob</th>\n",
       "      <th>Fjob</th>\n",
       "      <th>...</th>\n",
       "      <th>freetime</th>\n",
       "      <th>goout</th>\n",
       "      <th>Dalc</th>\n",
       "      <th>Walc</th>\n",
       "      <th>health</th>\n",
       "      <th>absences</th>\n",
       "      <th>G1</th>\n",
       "      <th>G2</th>\n",
       "      <th>G3</th>\n",
       "      <th>subj</th>\n",
       "    </tr>\n",
       "  </thead>\n",
       "  <tbody>\n",
       "    <tr>\n",
       "      <th>0</th>\n",
       "      <td>GP</td>\n",
       "      <td>F</td>\n",
       "      <td>18</td>\n",
       "      <td>U</td>\n",
       "      <td>GT3</td>\n",
       "      <td>A</td>\n",
       "      <td>4</td>\n",
       "      <td>4</td>\n",
       "      <td>at_home</td>\n",
       "      <td>teacher</td>\n",
       "      <td>...</td>\n",
       "      <td>3</td>\n",
       "      <td>4</td>\n",
       "      <td>1</td>\n",
       "      <td>1</td>\n",
       "      <td>3</td>\n",
       "      <td>6</td>\n",
       "      <td>5</td>\n",
       "      <td>6</td>\n",
       "      <td>6</td>\n",
       "      <td>0</td>\n",
       "    </tr>\n",
       "    <tr>\n",
       "      <th>1</th>\n",
       "      <td>GP</td>\n",
       "      <td>F</td>\n",
       "      <td>17</td>\n",
       "      <td>U</td>\n",
       "      <td>GT3</td>\n",
       "      <td>T</td>\n",
       "      <td>1</td>\n",
       "      <td>1</td>\n",
       "      <td>at_home</td>\n",
       "      <td>other</td>\n",
       "      <td>...</td>\n",
       "      <td>3</td>\n",
       "      <td>3</td>\n",
       "      <td>1</td>\n",
       "      <td>1</td>\n",
       "      <td>3</td>\n",
       "      <td>4</td>\n",
       "      <td>5</td>\n",
       "      <td>5</td>\n",
       "      <td>6</td>\n",
       "      <td>0</td>\n",
       "    </tr>\n",
       "    <tr>\n",
       "      <th>2</th>\n",
       "      <td>GP</td>\n",
       "      <td>F</td>\n",
       "      <td>15</td>\n",
       "      <td>U</td>\n",
       "      <td>LE3</td>\n",
       "      <td>T</td>\n",
       "      <td>1</td>\n",
       "      <td>1</td>\n",
       "      <td>at_home</td>\n",
       "      <td>other</td>\n",
       "      <td>...</td>\n",
       "      <td>3</td>\n",
       "      <td>2</td>\n",
       "      <td>2</td>\n",
       "      <td>3</td>\n",
       "      <td>3</td>\n",
       "      <td>10</td>\n",
       "      <td>7</td>\n",
       "      <td>8</td>\n",
       "      <td>10</td>\n",
       "      <td>0</td>\n",
       "    </tr>\n",
       "    <tr>\n",
       "      <th>3</th>\n",
       "      <td>GP</td>\n",
       "      <td>F</td>\n",
       "      <td>15</td>\n",
       "      <td>U</td>\n",
       "      <td>GT3</td>\n",
       "      <td>T</td>\n",
       "      <td>4</td>\n",
       "      <td>2</td>\n",
       "      <td>health</td>\n",
       "      <td>services</td>\n",
       "      <td>...</td>\n",
       "      <td>2</td>\n",
       "      <td>2</td>\n",
       "      <td>1</td>\n",
       "      <td>1</td>\n",
       "      <td>5</td>\n",
       "      <td>2</td>\n",
       "      <td>15</td>\n",
       "      <td>14</td>\n",
       "      <td>15</td>\n",
       "      <td>0</td>\n",
       "    </tr>\n",
       "    <tr>\n",
       "      <th>4</th>\n",
       "      <td>GP</td>\n",
       "      <td>F</td>\n",
       "      <td>16</td>\n",
       "      <td>U</td>\n",
       "      <td>GT3</td>\n",
       "      <td>T</td>\n",
       "      <td>3</td>\n",
       "      <td>3</td>\n",
       "      <td>other</td>\n",
       "      <td>other</td>\n",
       "      <td>...</td>\n",
       "      <td>3</td>\n",
       "      <td>2</td>\n",
       "      <td>1</td>\n",
       "      <td>2</td>\n",
       "      <td>5</td>\n",
       "      <td>4</td>\n",
       "      <td>6</td>\n",
       "      <td>10</td>\n",
       "      <td>10</td>\n",
       "      <td>0</td>\n",
       "    </tr>\n",
       "  </tbody>\n",
       "</table>\n",
       "<p>5 rows × 34 columns</p>\n",
       "</div>"
      ],
      "text/plain": [
       "  school sex  age address famsize Pstatus  Medu  Fedu     Mjob      Fjob ...   \\\n",
       "0     GP   F   18       U     GT3       A     4     4  at_home   teacher ...    \n",
       "1     GP   F   17       U     GT3       T     1     1  at_home     other ...    \n",
       "2     GP   F   15       U     LE3       T     1     1  at_home     other ...    \n",
       "3     GP   F   15       U     GT3       T     4     2   health  services ...    \n",
       "4     GP   F   16       U     GT3       T     3     3    other     other ...    \n",
       "\n",
       "  freetime goout  Dalc  Walc  health absences  G1  G2  G3 subj  \n",
       "0        3     4     1     1       3        6   5   6   6    0  \n",
       "1        3     3     1     1       3        4   5   5   6    0  \n",
       "2        3     2     2     3       3       10   7   8  10    0  \n",
       "3        2     2     1     1       5        2  15  14  15    0  \n",
       "4        3     2     1     2       5        4   6  10  10    0  \n",
       "\n",
       "[5 rows x 34 columns]"
      ]
     },
     "execution_count": 5,
     "metadata": {},
     "output_type": "execute_result"
    }
   ],
   "source": [
    "df = pd.concat([df_stud_m, df_stud_p], ignore_index=True)\n",
    "df.head()"
   ]
  },
  {
   "cell_type": "markdown",
   "metadata": {},
   "source": [
    "### Описание признаков\n"
   ]
  },
  {
   "cell_type": "markdown",
   "metadata": {},
   "source": [
    "* school - школа учащегося (бинарный признак: 'GP' - Gabriel Pereira, 'MS' - Mousinho da Silveira) \n",
    "* sex - пол учащегося (бинарный: 'F' - женский, 'M' - мужской) \n",
    "* age - возраст учащегося (вещественный: от 15 до 22) \n",
    "* address - тип домашнего адреса учащегося (бинарный: 'U' - городской или 'R' - загородный) \n",
    "* famsize - размер семьи (бинарный: 'LE3' - меньше или равный 3 или 'GT3' - больше чем 3) \n",
    "* Pstatus - статус сожительства родителей (бинарный: 'T' - живут вместе или 'A' - раздельно) \n",
    "* Medu - образование матери (вещественный: 0 - нет, 1 - начальное образование (4ый класс), 2 - от 5го до 9го класса, 3 - среднее образование или 4 - высшее образование) \n",
    "* Fedu - образование отца (вещественный: 0 - нет, 1 - начальное образование (4ый класс), 2 - от 5го до 9го класса, 3 - среднее образование или 4 - высшее образование) \n",
    "* Mjob - работа матери (категориальный: учитель - 'teacher', относится к здравоохранению - 'health', государственная служба (e.g. чиновник или в полиции) - 'services', домохозяйка - 'at_home' или другое - 'other') \n",
    "* Fjob - работа отца (категориальный: учитель - 'teacher', относится к здравоохранению - 'health', государственная служба (e.g. чиновник или в полиции) - 'services', домохозяйка - 'at_home' или другое - 'other') \n",
    "* reason - причина выбора школы (категориальный: близко к дому - 'home', репутация школы - 'reputation', предпочтение предметов - 'course' или другое - 'other') \n",
    "* guardian - опекун учащегося (категориальный: мать - 'mother', отец - 'father' или другое - 'other') \n",
    "* traveltime - время дороги от дома до школы (вещественный: 1 - <15 мин., 2 - от 15 до 30 мин., 3 - от 30 мин. до 1 часа, или 4 - >1 часа) \n",
    "* studytime - количество времени на учебу в неделю (вещественный: 1 - <2 часов, 2 - от 2 до 5 часов, 3 - от 5 до 10 часов, или 4 - >10 часов) \n",
    "* failures - количество незачетов в прошлом (вещественный: n, если 1<=n<3, в ином случае 4) \n",
    "* schoolsup - дополнительная образовательная поддержка в школе (бинарный: yis или no) \n",
    "* famsup - дополнительная образовательная поддержка в семье (бинарный: yes или no)  \n",
    "* paid - дополнительные платные уроки по предмету (математика или португальский) (бинарный: yes или no)  \n",
    "* activities - внеклассные занятия (бинарный: yes или no) \n",
    "* nursery - посещал ли детский сад (бинарный: yes или no)  \n",
    "* higher - хочет ли получить высшее образование (бинарный: yes или no) \n",
    "* internet - доступ к интернету дома (бинарный: yes или no)  \n",
    "* romantic - есть ли романтические отношения (бинарный: yes или no)  \n",
    "* famrel - качество отношений в семье (вещественный: от 1 - очень плохие до 5 - отличные) \n",
    "* freetime - свободное время после школы (вещественный: от 1 - очень мало до 5 - очень много) \n",
    "* goout - сколько времени проводит с друзьями (вещественный: от 1 - очень мало до 5 - очень много)  \n",
    "* Dalc - потребление алкоголяля в будни (вещественный: от 1 - очень мало до 5 - очень много) \n",
    "* Walc - потребление алкоголя на выходных (вещественный: от 1 - очень мало до 5 - очень много)  \n",
    "* health - состояние здоровья (вещественный: от 1 - очень плохое до 5 - очень хорошее) \n",
    "* absences - количество пропусков занятий (вещественный: от 0 до 93) \n",
    "\n",
    "---\n",
    "\n",
    "Эти оценки относятся к предмету - математике или португальскому. \n",
    "* G1 - оценка за первую четверть (вещественный: от 0 до 20) \n",
    "* G2 - оценка за вторую четверть (вещественный: от 0 до 20) \n",
    "* G3 - итоговая оценка (вещественный: от 0 до 20, цель предсказания) \n"
   ]
  },
  {
   "cell_type": "code",
   "execution_count": 6,
   "metadata": {},
   "outputs": [
    {
     "data": {
      "text/plain": [
       "False"
      ]
     },
     "execution_count": 6,
     "metadata": {},
     "output_type": "execute_result"
    }
   ],
   "source": [
    "# Ищем пропуски в датафрейме.\n",
    "#\n",
    "True in df.isnull() "
   ]
  },
  {
   "cell_type": "code",
   "execution_count": 7,
   "metadata": {},
   "outputs": [
    {
     "data": {
      "text/plain": [
       "9"
      ]
     },
     "execution_count": 7,
     "metadata": {},
     "output_type": "execute_result"
    }
   ],
   "source": [
    "# Образование матери = 0.\n",
    "#\n",
    "len(df.loc[df['Medu'] == 0, :])"
   ]
  },
  {
   "cell_type": "code",
   "execution_count": 8,
   "metadata": {
    "collapsed": true
   },
   "outputs": [],
   "source": [
    "# Преобразуем бинарные строковые признаки в бинарные int признаки.\n",
    "#\n",
    "def convert_to_binary(series):\n",
    "    res = []\n",
    "    one_var = series[0]\n",
    "    for i in series:\n",
    "        if i == one_var:\n",
    "            res.append(0)\n",
    "        else:\n",
    "            res.append(1)\n",
    "    return pd.Series(res)"
   ]
  },
  {
   "cell_type": "code",
   "execution_count": 9,
   "metadata": {
    "collapsed": true
   },
   "outputs": [],
   "source": [
    "binary_things = ['school', 'sex', 'address', 'famsize', 'Pstatus', 'schoolsup', 'famsup', \n",
    " 'paid', 'activities', 'nursery', 'higher', 'internet', 'romantic']\n",
    "for thing in binary_things:\n",
    "    df[thing] = convert_to_binary(df[thing])"
   ]
  },
  {
   "cell_type": "code",
   "execution_count": 10,
   "metadata": {
    "collapsed": true
   },
   "outputs": [],
   "source": [
    "df = pd.get_dummies(df, columns = ['Mjob', 'Fjob', 'reason', 'guardian'])"
   ]
  },
  {
   "cell_type": "code",
   "execution_count": 11,
   "metadata": {},
   "outputs": [
    {
     "data": {
      "text/plain": [
       "school               int64\n",
       "sex                  int64\n",
       "age                  int64\n",
       "address              int64\n",
       "famsize              int64\n",
       "Pstatus              int64\n",
       "Medu                 int64\n",
       "Fedu                 int64\n",
       "traveltime           int64\n",
       "studytime            int64\n",
       "failures             int64\n",
       "schoolsup            int64\n",
       "famsup               int64\n",
       "paid                 int64\n",
       "activities           int64\n",
       "nursery              int64\n",
       "higher               int64\n",
       "internet             int64\n",
       "romantic             int64\n",
       "famrel               int64\n",
       "freetime             int64\n",
       "goout                int64\n",
       "Dalc                 int64\n",
       "Walc                 int64\n",
       "health               int64\n",
       "absences             int64\n",
       "G1                   int64\n",
       "G2                   int64\n",
       "G3                   int64\n",
       "subj                 int64\n",
       "Mjob_at_home         uint8\n",
       "Mjob_health          uint8\n",
       "Mjob_other           uint8\n",
       "Mjob_services        uint8\n",
       "Mjob_teacher         uint8\n",
       "Fjob_at_home         uint8\n",
       "Fjob_health          uint8\n",
       "Fjob_other           uint8\n",
       "Fjob_services        uint8\n",
       "Fjob_teacher         uint8\n",
       "reason_course        uint8\n",
       "reason_home          uint8\n",
       "reason_other         uint8\n",
       "reason_reputation    uint8\n",
       "guardian_father      uint8\n",
       "guardian_mother      uint8\n",
       "guardian_other       uint8\n",
       "dtype: object"
      ]
     },
     "execution_count": 11,
     "metadata": {},
     "output_type": "execute_result"
    }
   ],
   "source": [
    "# Добились того, что нет номинальных признаков.\n",
    "#\n",
    "df.dtypes"
   ]
  },
  {
   "cell_type": "code",
   "execution_count": 12,
   "metadata": {
    "collapsed": true
   },
   "outputs": [],
   "source": [
    "# Выбираем 2 признака, наиболее связанных с G3.\n",
    "#\n",
    "def choose_feature(n_features):\n",
    "    skb = SelectKBest(score_func=f_regression, k=n_features)\n",
    "    skb.fit_transform(df.drop('G3',axis=1), df['G3'])\n",
    "    indices = skb.get_support(indices=True)\n",
    "    for i in indices:\n",
    "        print(df.iloc[:, i].name)"
   ]
  },
  {
   "cell_type": "code",
   "execution_count": 13,
   "metadata": {},
   "outputs": [
    {
     "name": "stdout",
     "output_type": "stream",
     "text": [
      "G1\n",
      "G2\n"
     ]
    }
   ],
   "source": [
    "choose_feature(n_features=2)"
   ]
  },
  {
   "cell_type": "markdown",
   "metadata": {},
   "source": [
    "### Регрессия (Max 4)\n",
    "Выберите один признак, который наиболее влияет на признак G3 и используя кросс-валидацию (cross-validation) выполните следующее:"
   ]
  },
  {
   "cell_type": "markdown",
   "metadata": {},
   "source": [
    "- На обучающей выборке обучите объект [RidgeСV](http://scikit-learn.org/stable/modules/generated/sklearn.linear_model.RidgeCV.html#sklearn.linear_model.RidgeCV) для различных alpha (0.2)\n",
    "- Выберите alpha при котором RidgeCV лучше всего предсказывает значения (0.1)\n",
    "- Подсчитайте метрику mean absolute error, mean squared error, median absolute error,r2 score(0.2)\n",
    "- Max (0.5)\n",
    "- ------------------------------------\n",
    "- Создайте объекты [SGDRegressor](http://scikit-learn.org/stable/modules/generated/sklearn.linear_model.SGDRegressor.html#sklearn.linear_model.SGDRegressor), используя все возможных варианты аргумента penalty (0.2)\n",
    "- Обучите все полученных объекты на обучающей выборке (0.1)\n",
    "- Подсчитайте метрику r2 score для всех объектов (0.2)\n",
    "- Max (0.5)\n",
    "- ------------------------------------\n",
    "- Создайте объекты с параметрами max_depth = 1,3, 10 [GradientBoostingRegressor](http://scikit-learn.org/stable/modules/generated/sklearn.ensemble.GradientBoostingRegressor.html#sklearn.ensemble.GradientBoostingRegressor) и для каждого объекта изменяйте количество n_estimators  от 100 до 1000 с шагом 100 (0.2)\n",
    "- Подсчитайте метрику r2 score для всех объектов (0.1)\n",
    "- Визуализируйте зависимость R2 oт n_estimators на графике (0.2)\n",
    "- Max (0.5)\n",
    "- -----------------------------------\n",
    "- Используя все доступные регрессоры в библиотеке sklearn, найдите самый лучший регрессор. (2.5)"
   ]
  },
  {
   "cell_type": "code",
   "execution_count": 14,
   "metadata": {},
   "outputs": [
    {
     "name": "stdout",
     "output_type": "stream",
     "text": [
      "G2\n"
     ]
    }
   ],
   "source": [
    "# Выбираем признак с наибольшим влиянием на G3.\n",
    "#\n",
    "choose_feature(n_features=1)"
   ]
  },
  {
   "cell_type": "markdown",
   "metadata": {},
   "source": [
    "### Регрессия"
   ]
  },
  {
   "cell_type": "code",
   "execution_count": 15,
   "metadata": {
    "collapsed": true
   },
   "outputs": [],
   "source": [
    "x_ = SelectKBest(score_func=f_regression, k=1).fit_transform(df.drop('G3',axis=1), df['G3'])\n",
    "\n",
    "X_train, X_test, y_train, y_test = train_test_split(np.array(x_), np.array(df['G3']), random_state=RANDOM_SEED)"
   ]
  },
  {
   "cell_type": "markdown",
   "metadata": {},
   "source": [
    "### RidgeCV"
   ]
  },
  {
   "cell_type": "code",
   "execution_count": 16,
   "metadata": {},
   "outputs": [
    {
     "data": {
      "text/plain": [
       "array([  1.00000000e-04,   4.64158883e-04,   2.15443469e-03,\n",
       "         1.00000000e-02,   4.64158883e-02,   2.15443469e-01,\n",
       "         1.00000000e+00,   4.64158883e+00,   2.15443469e+01,\n",
       "         1.00000000e+02])"
      ]
     },
     "execution_count": 16,
     "metadata": {},
     "output_type": "execute_result"
    }
   ],
   "source": [
    "alphas = np.logspace(-4, 2, 10)\n",
    "alphas"
   ]
  },
  {
   "cell_type": "code",
   "execution_count": 17,
   "metadata": {
    "collapsed": true
   },
   "outputs": [],
   "source": [
    "rcv = RidgeCV(alphas=alphas)"
   ]
  },
  {
   "cell_type": "code",
   "execution_count": 18,
   "metadata": {},
   "outputs": [
    {
     "data": {
      "text/plain": [
       "4.6415888336127722"
      ]
     },
     "execution_count": 18,
     "metadata": {},
     "output_type": "execute_result"
    }
   ],
   "source": [
    "rcv.fit(X_train, y_train)\n",
    "\n",
    "# Лучшая alpha.\n",
    "#\n",
    "rcv.alpha_"
   ]
  },
  {
   "cell_type": "code",
   "execution_count": 19,
   "metadata": {
    "collapsed": true
   },
   "outputs": [],
   "source": [
    "y_predicted = rcv.predict(X_test)"
   ]
  },
  {
   "cell_type": "code",
   "execution_count": 20,
   "metadata": {},
   "outputs": [
    {
     "name": "stdout",
     "output_type": "stream",
     "text": [
      "\n",
      "        MAE\t= 0.87696\n",
      "        MSE\t= 2.33344\n",
      "        MDAE\t= 0.66507\n",
      "        R2\t= 0.81675\n",
      "      \n"
     ]
    }
   ],
   "source": [
    "print('''\n",
    "        MAE\\t= {mae:5.5f}\n",
    "        MSE\\t= {mse:5.5f}\n",
    "        MDAE\\t= {mdae:5.5f}\n",
    "        R2\\t= {r2:5.5f}\n",
    "      '''.format(mae=mean_absolute_error(y_predicted, y_test),\n",
    "                 mse=mean_squared_error(y_predicted, y_test),\n",
    "                 mdae=median_absolute_error(y_predicted, y_test),\n",
    "                 r2=r2_score(y_predicted, y_test)))"
   ]
  },
  {
   "cell_type": "markdown",
   "metadata": {},
   "source": [
    "## SGDRegressor"
   ]
  },
  {
   "cell_type": "code",
   "execution_count": 21,
   "metadata": {
    "collapsed": true
   },
   "outputs": [],
   "source": [
    "penalties = ['none', 'l2', 'l1', 'elasticnet']"
   ]
  },
  {
   "cell_type": "code",
   "execution_count": 22,
   "metadata": {},
   "outputs": [
    {
     "name": "stdout",
     "output_type": "stream",
     "text": [
      "Penalty none        R2 error = 0.80443\n",
      "Penalty l2          R2 error = 0.80443\n",
      "Penalty l1          R2 error = 0.80443\n",
      "Penalty elasticnet  R2 error = 0.80443\n"
     ]
    }
   ],
   "source": [
    "for p in penalties:\n",
    "    # max_iter=5, tol=None parameters are the default ones for 0.19 version, but would be different in 0.21\n",
    "    # So setting them to '5' and 'None' respectively.\n",
    "    #\n",
    "    sgdr = SGDRegressor(penalty=p, max_iter=5, tol=None, random_state=RANDOM_SEED)\n",
    "    sgdr.fit(X_train, y_train)\n",
    "    r2score = r2_score(sgdr.predict(X_test), y_test)\n",
    "    print('Penalty {p: <11} R2 error = {r:1.5f}'.format(p=p, r=r2score))"
   ]
  },
  {
   "cell_type": "markdown",
   "metadata": {},
   "source": [
    "## GBRegressor"
   ]
  },
  {
   "cell_type": "code",
   "execution_count": 23,
   "metadata": {
    "collapsed": true
   },
   "outputs": [],
   "source": [
    "max_depths = [1, 3, 10]"
   ]
  },
  {
   "cell_type": "code",
   "execution_count": 24,
   "metadata": {
    "collapsed": true
   },
   "outputs": [],
   "source": [
    "def illustrate_r2_score(max_depths, n_ests, verbose=False):\n",
    "    for md in max_depths:\n",
    "        scores = []\n",
    "        for n_est in n_ests:\n",
    "            gbr = GradientBoostingRegressor(max_depth=md, n_estimators=n_est, random_state=RANDOM_SEED)\n",
    "            r2score = r2_score(gbr.fit(X_train, y_train).predict(X_test), y_test)\n",
    "            scores.append(r2score)\n",
    "            if verbose:\n",
    "                print('max_depth = {md}, n_estimators = {ne}\\t r2 = {r2:3.5f}'.format(md=md, ne=n_est, r2=r2score))\n",
    "        plt.plot(n_ests, scores, label='max_depth={}'.format(md))\n",
    "        scores = []\n",
    "\n",
    "    plt.title('R2 dependency on n_estimators')\n",
    "    plt.xlabel('n_estimators')\n",
    "    plt.ylabel('R2 score')\n",
    "    plt.legend()\n",
    "    plt.show()"
   ]
  },
  {
   "cell_type": "code",
   "execution_count": 25,
   "metadata": {},
   "outputs": [
    {
     "name": "stdout",
     "output_type": "stream",
     "text": [
      "max_depth = 1, n_estimators = 100\t r2 = 0.80334\n",
      "max_depth = 1, n_estimators = 200\t r2 = 0.80917\n",
      "max_depth = 1, n_estimators = 300\t r2 = 0.80939\n",
      "max_depth = 1, n_estimators = 400\t r2 = 0.80940\n",
      "max_depth = 1, n_estimators = 500\t r2 = 0.80940\n",
      "max_depth = 1, n_estimators = 600\t r2 = 0.80940\n",
      "max_depth = 1, n_estimators = 700\t r2 = 0.80940\n",
      "max_depth = 1, n_estimators = 800\t r2 = 0.80940\n",
      "max_depth = 1, n_estimators = 900\t r2 = 0.80940\n",
      "max_depth = 1, n_estimators = 1000\t r2 = 0.80940\n",
      "max_depth = 3, n_estimators = 100\t r2 = 0.80939\n",
      "max_depth = 3, n_estimators = 200\t r2 = 0.80940\n",
      "max_depth = 3, n_estimators = 300\t r2 = 0.80940\n",
      "max_depth = 3, n_estimators = 400\t r2 = 0.80940\n",
      "max_depth = 3, n_estimators = 500\t r2 = 0.80940\n",
      "max_depth = 3, n_estimators = 600\t r2 = 0.80940\n",
      "max_depth = 3, n_estimators = 700\t r2 = 0.80940\n",
      "max_depth = 3, n_estimators = 800\t r2 = 0.80940\n",
      "max_depth = 3, n_estimators = 900\t r2 = 0.80940\n",
      "max_depth = 3, n_estimators = 1000\t r2 = 0.80940\n",
      "max_depth = 10, n_estimators = 100\t r2 = 0.80939\n",
      "max_depth = 10, n_estimators = 200\t r2 = 0.80940\n",
      "max_depth = 10, n_estimators = 300\t r2 = 0.80940\n",
      "max_depth = 10, n_estimators = 400\t r2 = 0.80940\n",
      "max_depth = 10, n_estimators = 500\t r2 = 0.80940\n",
      "max_depth = 10, n_estimators = 600\t r2 = 0.80940\n",
      "max_depth = 10, n_estimators = 700\t r2 = 0.80940\n",
      "max_depth = 10, n_estimators = 800\t r2 = 0.80940\n",
      "max_depth = 10, n_estimators = 900\t r2 = 0.80940\n",
      "max_depth = 10, n_estimators = 1000\t r2 = 0.80940\n"
     ]
    },
    {
     "data": {
      "image/png": "[encoded data removed]",
      "text/plain": [
       "<matplotlib.figure.Figure at 0x7fd0c33299e8>"
      ]
     },
     "metadata": {},
     "output_type": "display_data"
    }
   ],
   "source": [
    "illustrate_r2_score(max_depths=max_depths, n_ests=np.arange(100, 1001, 100), verbose=True)"
   ]
  },
  {
   "cell_type": "code",
   "execution_count": 26,
   "metadata": {},
   "outputs": [
    {
     "data": {
      "image/png": "[encoded data removed]",
      "text/plain": [
       "<matplotlib.figure.Figure at 0x7fd0c12e8160>"
      ]
     },
     "metadata": {},
     "output_type": "display_data"
    }
   ],
   "source": [
    "# Попробуем другие значения параметра n_estimarots - этот график нагляднее иллюсрирует изменение r2 score.\n",
    "#\n",
    "illustrate_r2_score(max_depths=max_depths, n_ests=np.arange(10, 111, 1))"
   ]
  },
  {
   "cell_type": "markdown",
   "metadata": {},
   "source": [
    "### Найдем лучший регрессор в scikit-learn"
   ]
  },
  {
   "cell_type": "code",
   "execution_count": 27,
   "metadata": {
    "collapsed": true
   },
   "outputs": [],
   "source": [
    "# Регрессоры. Изначально я брал вообще все регрессоры из sklearn API reference, но потом уточнил у семинариста.\n",
    "# Он сказал, что достаточно пяти любых. \n",
    "#\n",
    "regressors = [AdaBoostRegressor(random_state=RANDOM_SEED), \n",
    "              BaggingRegressor(random_state=RANDOM_SEED), \n",
    "              RandomForestRegressor(random_state=RANDOM_SEED), \n",
    "              GradientBoostingRegressor(random_state=RANDOM_SEED), \n",
    "              MLPRegressor(random_state=RANDOM_SEED), \n",
    "              DecisionTreeRegressor(random_state=RANDOM_SEED)]"
   ]
  },
  {
   "cell_type": "code",
   "execution_count": 28,
   "metadata": {
    "collapsed": true
   },
   "outputs": [],
   "source": [
    "res = {}"
   ]
  },
  {
   "cell_type": "code",
   "execution_count": 29,
   "metadata": {},
   "outputs": [
    {
     "name": "stdout",
     "output_type": "stream",
     "text": [
      "AdaBoostRegressor           score:  0.77671\n",
      "BaggingRegressor            score:  0.81800\n",
      "RandomForestRegressor       score:  0.81804\n",
      "GradientBoostingRegressor   score:  0.81955\n",
      "MLPRegressor                score:  0.83033\n",
      "DecisionTreeRegressor       score:  0.81954\n"
     ]
    }
   ],
   "source": [
    "for reg in regressors:\n",
    "    reg_name= reg.__class__.__name__\n",
    "    score = reg.fit(X_train, y_train).score(X_test, y_test)\n",
    "    res[reg_name] = score\n",
    "    print('{reg: <27} score:  {sc:4.5f}'.format(reg=reg_name, sc=score))"
   ]
  },
  {
   "cell_type": "code",
   "execution_count": 30,
   "metadata": {},
   "outputs": [
    {
     "name": "stdout",
     "output_type": "stream",
     "text": [
      "Max score (0.81804) has RandomForestRegressor!\n"
     ]
    }
   ],
   "source": [
    "max_reg = max(res)\n",
    "print('Max score ({s:2.5}) has {r}!'.format(s=res[max_reg], r=max_reg))"
   ]
  },
  {
   "cell_type": "markdown",
   "metadata": {},
   "source": [
    "### Классификация (Max 4)\n",
    "- В статье описано использование Random Forest для предсказания важности факторов, влияющих на потребление алкоголя. Повторите эксперимент с использование объекта [RandomForest](http://scikit-learn.org/stable/modules/generated/sklearn.ensemble.RandomForestClassifier.html#sklearn.ensemble.RandomForestClassifier) и найдите наилучшие параметры. Укажите accuracy для наилучших параметров (0.5)\n",
    "- Обучите объект [GradientBoostingClassifier](http://scikit-learn.org/stable/modules/generated/sklearn.ensemble.GradientBoostingClassifier.html#sklearn.ensemble.GradientBoostingClassifier)  и найдите для него наилучшие параметры. Укажите accuracy для наилучших параметров (0.5)\n",
    "- Обучите объект [AdaBoostClassifier](http://scikit-learn.org/stable/modules/generated/sklearn.ensemble.AdaBoostClassifier.html)  и найдите для него наилучшие параметры. Укажите accuracy для наилучших параметров (0.5)\n",
    "- Найдите наилучший классификатор. Укажите accuracy для наилучших параметров (2.5)"
   ]
  },
  {
   "cell_type": "code",
   "execution_count": 31,
   "metadata": {
    "collapsed": true
   },
   "outputs": [],
   "source": [
    "# Повторяем эксперимент из статьи.\n",
    "#\n",
    "alc = (df['Walc'] * 2 + df['Dalc'] * 5) / 7\n",
    "alc = alc.apply(lambda x: 0 if x < 3. else 1)\n",
    "\n",
    "# Дропаем колонки, для которых делаем ответ.\n",
    "#\n",
    "stud = df.drop(['Walc', 'Dalc'], axis=1)"
   ]
  },
  {
   "cell_type": "code",
   "execution_count": 32,
   "metadata": {
    "collapsed": true
   },
   "outputs": [],
   "source": [
    "X_train, X_test, y_train, y_test = train_test_split(stud, alc, random_state=RANDOM_SEED, test_size=0.2)"
   ]
  },
  {
   "cell_type": "code",
   "execution_count": 33,
   "metadata": {
    "collapsed": true
   },
   "outputs": [],
   "source": [
    "def classify_with_best_params(clf, params):\n",
    "    clf_name = clf.__class__.__name__\n",
    "    cv = GridSearchCV(clf, \n",
    "                      param_grid=params, \n",
    "                      cv=StratifiedKFold(random_state=RANDOM_SEED)).fit(stud, alc)\n",
    "    \n",
    "    print('Classifier: {clf: >60}\\nBest score: {sc: >60}\\nBest params: {pa: >60}'\\\n",
    "          .format(clf=clf_name, sc=cv.best_score_, pa=str(cv.best_params_)))\n",
    "    \n",
    "    # Не нашел способа проитерироваться по cv.best_params_ и задать их классификатору, т.к. значения параметров в строках,\n",
    "    # а передавать надо plain text.\n",
    "    #\n",
    "    if clf_name is 'RandomForestClassifier':\n",
    "        clf.set_params(max_depth=cv.best_params_['max_depth'], n_estimators=cv.best_params_['n_estimators'])\n",
    "    elif clf_name is 'GradientBoostingClassifier':\n",
    "        clf.set_params(max_depth=cv.best_params_['max_depth'], \n",
    "                       n_estimators=cv.best_params_['n_estimators'], \n",
    "                       loss=cv.best_params_['loss'])\n",
    "    elif clf_name is 'AdaBoostClassifier':\n",
    "        clf.set_params(n_estimators=cv.best_params_['n_estimators'])\n",
    "        \n",
    "    print('Accuracy: {: >63}\\n'.format(accuracy_score(y_test, clf.fit(X_train, y_train).predict(X_test))))"
   ]
  },
  {
   "cell_type": "code",
   "execution_count": 34,
   "metadata": {},
   "outputs": [
    {
     "name": "stdout",
     "output_type": "stream",
     "text": [
      "Classifier:                                       RandomForestClassifier\n",
      "Best score:                                           0.9166666666666666\n",
      "Best params:                       {'max_depth': 13, 'n_estimators': 100}\n",
      "Accuracy:                                              0.8995215311004785\n",
      "\n"
     ]
    }
   ],
   "source": [
    "classify_with_best_params(clf=RandomForestClassifier(), \n",
    "                          params={'n_estimators':np.arange(100, 1001, 100), \n",
    "                                  'max_depth':np.arange(1, 14, 3)})"
   ]
  },
  {
   "cell_type": "code",
   "execution_count": 35,
   "metadata": {},
   "outputs": [
    {
     "name": "stdout",
     "output_type": "stream",
     "text": [
      "Classifier:                                   GradientBoostingClassifier\n",
      "Best score:                                           0.9272030651340997\n",
      "Best params: {'max_depth': 7, 'loss': 'exponential', 'n_estimators': 200}\n",
      "Accuracy:                                               0.937799043062201\n",
      "\n"
     ]
    }
   ],
   "source": [
    "classify_with_best_params(clf=GradientBoostingClassifier(), \n",
    "                          params={'n_estimators':np.arange(100, 1001, 100),\n",
    "                                  'max_depth':np.arange(1, 14, 3),\n",
    "                                  'loss':['deviance','exponential']})"
   ]
  },
  {
   "cell_type": "code",
   "execution_count": 36,
   "metadata": {},
   "outputs": [
    {
     "name": "stdout",
     "output_type": "stream",
     "text": [
      "Classifier:                                           AdaBoostClassifier\n",
      "Best score:                                           0.8860153256704981\n",
      "Best params:                                         {'n_estimators': 60}\n",
      "Accuracy:                                              0.9043062200956937\n",
      "\n"
     ]
    }
   ],
   "source": [
    "classify_with_best_params(clf=AdaBoostClassifier(),\n",
    "                          params={'n_estimators':np.arange(10, 461, 50)})"
   ]
  },
  {
   "cell_type": "markdown",
   "metadata": {},
   "source": [
    "Лучший классификатор - **GradientBoostingClassifier**\n",
    "\n",
    "Его лучшие параметры - {'max_depth': 7, 'n_estimators': 300, 'loss': 'exponential'}\n",
    "\n",
    "Accuracy при этих параметрах - 0.937799043062201"
   ]
  },
  {
   "cell_type": "code",
   "execution_count": null,
   "metadata": {},
   "outputs": [],
   "source": [
    "# EOF"
   ]
  }
 ],
 "metadata": {
  "kernelspec": {
   "display_name": "Python 3",
   "language": "python",
   "name": "python3"
  },
  "language_info": {
   "codemirror_mode": {
    "name": "ipython",
    "version": 3
   },
   "file_extension": ".py",
   "mimetype": "text/x-python",
   "name": "python",
   "nbconvert_exporter": "python",
   "pygments_lexer": "ipython3",
   "version": "3.6.2"
  }
 },
 "nbformat": 4,
 "nbformat_minor": 1
}
