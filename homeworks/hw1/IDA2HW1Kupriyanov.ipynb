{
 "cells": [
  {
   "cell_type": "markdown",
   "metadata": {},
   "source": [
    "# Домашняя работа №1. Купринов Кирилл, гр. ИАД-2"
   ]
  },
  {
   "cell_type": "markdown",
   "metadata": {},
   "source": [
    "**Срок сдачи:** 9 октября 2017, 23:59 <br\\>\n",
    "\n",
    "При отправлении ДЗ в Dropbox указывайте фамилию в названии файла: <br\\>\n",
    "** IDA<Номер группы>HW1<Фамилия>.ipynb ** - например ** IDA1HW1Panov.ipynb **<br\\>\n",
    "\n",
    "\n",
    "Сопровождайте ваш код изображеними, комментариями и выводами. <br\\>\n",
    "Иммейте ввиду, что на некоторые задачи нет единственного верного и полного ответа. Чем больше информации вы сможете извлечь, аргументированных выводов сформулировать, тем лучше.\n",
    "\n",
    "Используйте данный Ipython Notebook при оформлении домашнего задания."
   ]
  },
  {
   "cell_type": "markdown",
   "metadata": {},
   "source": [
    "# Table of Contents\n",
    " <p><div class=\"lev1 toc-item\"><a href=\"#Регрессия-с-SVM-(3-балла)\" data-toc-modified-id=\"Регрессия-с-SVM-(3-балла)-1\"><span class=\"toc-item-num\">1&nbsp;&nbsp;</span>Регрессия с SVM (3 балла)</a></div><div class=\"lev2 toc-item\"><a href=\"#Визуализация-данных-(1-балл)\" data-toc-modified-id=\"Визуализация-данных-(1-балл)-11\"><span class=\"toc-item-num\">1.1&nbsp;&nbsp;</span>Визуализация данных (1 балл)</a></div><div class=\"lev2 toc-item\"><a href=\"#Обучение-моделей-(2-балла)\" data-toc-modified-id=\"Обучение-моделей-(2-балла)-12\"><span class=\"toc-item-num\">1.2&nbsp;&nbsp;</span>Обучение моделей (2 балла)</a></div><div class=\"lev1 toc-item\"><a href=\"#Определение-языка-слова-(7-баллов)\" data-toc-modified-id=\"Определение-языка-слова-(7-баллов)-2\"><span class=\"toc-item-num\">2&nbsp;&nbsp;</span>Определение языка слова (7 баллов)</a></div><div class=\"lev2 toc-item\"><a href=\"#Загрузка-(1-балл)\" data-toc-modified-id=\"Загрузка-(1-балл)-21\"><span class=\"toc-item-num\">2.1&nbsp;&nbsp;</span>Загрузка (1 балл)</a></div><div class=\"lev2 toc-item\"><a href=\"#Подход-с-n-граммами-(2-балла)\" data-toc-modified-id=\"Подход-с-n-граммами-(2-балла)-22\"><span class=\"toc-item-num\">2.2&nbsp;&nbsp;</span>Подход с n-граммами (2 балла)</a></div><div class=\"lev2 toc-item\"><a href=\"#Подход-с-пользовательским-ядром\" data-toc-modified-id=\"Подход-с-пользовательским-ядром-23\"><span class=\"toc-item-num\">2.3&nbsp;&nbsp;</span>Подход с пользовательским ядром</a></div><div class=\"lev3 toc-item\"><a href=\"#Подготовка-данных-(1-балла)\" data-toc-modified-id=\"Подготовка-данных-(1-балла)-231\"><span class=\"toc-item-num\">2.3.1&nbsp;&nbsp;</span>Подготовка данных (1 балла)</a></div><div class=\"lev3 toc-item\"><a href=\"#Расчет-ядра-(2-балла)\" data-toc-modified-id=\"Расчет-ядра-(2-балла)-232\"><span class=\"toc-item-num\">2.3.2&nbsp;&nbsp;</span>Расчет ядра (2 балла)</a></div><div class=\"lev3 toc-item\"><a href=\"#Оценка-качества-(1-балл)\" data-toc-modified-id=\"Оценка-качества-(1-балл)-233\"><span class=\"toc-item-num\">2.3.3&nbsp;&nbsp;</span>Оценка качества (1 балл)</a></div>"
   ]
  },
  {
   "cell_type": "markdown",
   "metadata": {},
   "source": [
    "# Регрессия с SVM (3 балла)"
   ]
  },
  {
   "cell_type": "markdown",
   "metadata": {},
   "source": [
    "SVM можно использовать и для задачи регрессии.\n",
    "\n",
    "Загрузите набор данных из *titanium.csv*<br/>\n",
    "Будем решать задачу восстановления столбца 'y' по столбцу 'x'."
   ]
  },
  {
   "cell_type": "code",
   "execution_count": 32,
   "metadata": {
    "collapsed": true
   },
   "outputs": [],
   "source": [
    "import pandas as pd\n",
    "import numpy as np\n",
    "import matplotlib.pyplot as plt\n",
    "from sklearn.svm import SVR\n",
    "from sklearn.svm import SVC\n",
    "from sklearn.model_selection import cross_val_score\n",
    "\n",
    "%matplotlib inline\n",
    "plt.style.use('bmh')\n",
    "plt.rcParams['figure.figsize'] = (10, 6)"
   ]
  },
  {
   "cell_type": "code",
   "execution_count": 36,
   "metadata": {},
   "outputs": [
    {
     "data": {
      "text/html": [
       "<div>\n",
       "<style>\n",
       "    .dataframe thead tr:only-child th {\n",
       "        text-align: right;\n",
       "    }\n",
       "\n",
       "    .dataframe thead th {\n",
       "        text-align: left;\n",
       "    }\n",
       "\n",
       "    .dataframe tbody tr th {\n",
       "        vertical-align: top;\n",
       "    }\n",
       "</style>\n",
       "<table border=\"1\" class=\"dataframe\">\n",
       "  <thead>\n",
       "    <tr style=\"text-align: right;\">\n",
       "      <th></th>\n",
       "      <th>x</th>\n",
       "      <th>y</th>\n",
       "    </tr>\n",
       "  </thead>\n",
       "  <tbody>\n",
       "    <tr>\n",
       "      <th>0</th>\n",
       "      <td>585.0</td>\n",
       "      <td>0.644</td>\n",
       "    </tr>\n",
       "    <tr>\n",
       "      <th>1</th>\n",
       "      <td>595.0</td>\n",
       "      <td>0.622</td>\n",
       "    </tr>\n",
       "    <tr>\n",
       "      <th>2</th>\n",
       "      <td>605.0</td>\n",
       "      <td>0.638</td>\n",
       "    </tr>\n",
       "    <tr>\n",
       "      <th>3</th>\n",
       "      <td>615.0</td>\n",
       "      <td>0.649</td>\n",
       "    </tr>\n",
       "    <tr>\n",
       "      <th>4</th>\n",
       "      <td>625.0</td>\n",
       "      <td>0.652</td>\n",
       "    </tr>\n",
       "  </tbody>\n",
       "</table>\n",
       "</div>"
      ],
      "text/plain": [
       "       x      y\n",
       "0  585.0  0.644\n",
       "1  595.0  0.622\n",
       "2  605.0  0.638\n",
       "3  615.0  0.649\n",
       "4  625.0  0.652"
      ]
     },
     "execution_count": 36,
     "metadata": {},
     "output_type": "execute_result"
    }
   ],
   "source": [
    "df = pd.read_csv('./titanium.csv')\n",
    "df.head()"
   ]
  },
  {
   "cell_type": "markdown",
   "metadata": {},
   "source": [
    "## Визуализация данных (1 балл)"
   ]
  },
  {
   "cell_type": "markdown",
   "metadata": {},
   "source": [
    "Выполните стандартную предобработку данных (вычет среднего и деление на стандартное отклонение) и выведите их на графике."
   ]
  },
  {
   "cell_type": "code",
   "execution_count": 40,
   "metadata": {},
   "outputs": [],
   "source": [
    "x_processed = (df['x'] - np.mean(df['x'])) / np.std(df['x'])\n",
    "y_processed = (df['y'] - np.mean(df['y'])) / np.std(df['y'])"
   ]
  },
  {
   "cell_type": "code",
   "execution_count": 41,
   "metadata": {},
   "outputs": [
    {
     "data": {
      "image/png": "[encoded data removed]",
      "text/plain": [
       "<matplotlib.figure.Figure at 0x7f5bfdd306d8>"
      ]
     },
     "metadata": {},
     "output_type": "display_data"
    }
   ],
   "source": [
    "plt.scatter(x_processed, y_processed);\n",
    "plt.show()"
   ]
  },
  {
   "cell_type": "markdown",
   "metadata": {},
   "source": [
    "## Обучение моделей (2 балла)"
   ]
  },
  {
   "cell_type": "markdown",
   "metadata": {},
   "source": [
    "Рассмотрим 3 ядра: \n",
    "* Линейное\n",
    "* Полиномиальное (`degree = 3`, `gamma = 6`, `coef0 = 1`)\n",
    "* RBF (`gamma = 6`, `coef0 = 1`)\n",
    "\n",
    "Во всех случаях установите точность алгоритма оптимизации `epsilon=0.01`\n",
    "\n",
    "Для каждого из ядер:\n",
    "1. Постройте графики зависимости ошибки от параметра $C$ (ось графика со значениями параметра $C$ должна быть в логарифмической шкале). Ошибка измеряется как средняя абсолютная ошибка. \n",
    "2. Для наилучшего параметра $C$ постройте график с данными и предсказанием с помощью SVM.\n",
    "\n",
    "В каких случаях возникают эффекты недообучения, переобучения?"
   ]
  },
  {
   "cell_type": "code",
   "execution_count": null,
   "metadata": {
    "collapsed": true
   },
   "outputs": [],
   "source": []
  },
  {
   "cell_type": "markdown",
   "metadata": {},
   "source": [
    "# Определение языка слова (7 баллов)"
   ]
  },
  {
   "cell_type": "markdown",
   "metadata": {},
   "source": [
    "В данном задании вам необходимо построить модель, которая будет определять, на каком языке написано слово. Сделать это будет предложено двумя способами.\n",
    "\n",
    "Даны два текста - первые предложения произведения \"Война и Мир\" на английком и испанском, разбитые на слова."
   ]
  },
  {
   "cell_type": "markdown",
   "metadata": {},
   "source": [
    "## Загрузка (1 балл)\n",
    "\n",
    "Загрузите данные из файлов *war_and_peace_es.txt* и *war_and_peace_en.txt*.<br/> \n",
    "В результате вы должны получить pandas.DataFrame со столбцами *index* | *word* | *label*, где *index* - это индекс pandas, *word* - это слово и *label* - это метка класса (0 или 1)"
   ]
  },
  {
   "cell_type": "code",
   "execution_count": 45,
   "metadata": {},
   "outputs": [
    {
     "data": {
      "text/html": [
       "<div>\n",
       "<table border=\"1\" class=\"dataframe\">\n",
       "  <thead>\n",
       "    <tr style=\"text-align: right;\">\n",
       "      <th></th>\n",
       "      <th>word</th>\n",
       "      <th>label</th>\n",
       "    </tr>\n",
       "  </thead>\n",
       "  <tbody>\n",
       "    <tr>\n",
       "      <th>0</th>\n",
       "      <td>guerra</td>\n",
       "      <td>0</td>\n",
       "    </tr>\n",
       "    <tr>\n",
       "      <th>1</th>\n",
       "      <td>pace</td>\n",
       "      <td>0</td>\n",
       "    </tr>\n",
       "    <tr>\n",
       "      <th>2</th>\n",
       "      <td>lev</td>\n",
       "      <td>0</td>\n",
       "    </tr>\n",
       "    <tr>\n",
       "      <th>3</th>\n",
       "      <td>nicoevic</td>\n",
       "      <td>0</td>\n",
       "    </tr>\n",
       "    <tr>\n",
       "      <th>4</th>\n",
       "      <td>tolstj</td>\n",
       "      <td>0</td>\n",
       "    </tr>\n",
       "  </tbody>\n",
       "</table>\n",
       "</div>"
      ],
      "text/plain": [
       "       word  label\n",
       "0    guerra      0\n",
       "1      pace      0\n",
       "2       lev      0\n",
       "3  nicoevic      0\n",
       "4    tolstj      0"
      ]
     },
     "execution_count": 45,
     "metadata": {},
     "output_type": "execute_result"
    }
   ],
   "source": [
    "# like this\n",
    "\n",
    "df.head()"
   ]
  },
  {
   "cell_type": "markdown",
   "metadata": {},
   "source": [
    "## Подход с n-граммами (2 балла)"
   ]
  },
  {
   "cell_type": "markdown",
   "metadata": {},
   "source": [
    "На этом этапе предлагается построить модель используя n-граммы слов, то есть последовательностях из n символов.<br/>\n",
    "Таким образом, признаками наших данных будут все найденные n-граммы слов, а значениями признаков будут частоты соответствующих n-грамм в слове.<br/>\n",
    "Например, для слова \"guerra\" би-граммами будут \"gu\", \"ue\", \"er\", \"rr\", \"ra\", каждая из которых встречается в нем с частотой 1.\n",
    "\n",
    "Для того, чтобы выделять n-граммы, удобно использовать `CountVectorizer()` с аргументами `analyzer='char'` и `ngram_range=(n_min, n_max)`. Вы наверняка встречались с этим векторизатором в предыдущем модуле.\n",
    "\n",
    "Таким образом, сделайте следующее:\n",
    "1. Задайте переменную RND_SEED, которая будет использоваться в любых генераторах случайных чисел в вашем коде (обычно параметр \"random_seed\")\n",
    "2. Разбейте данные на обучающую и отложенную выборку в пропорции 80/20\n",
    "3. Составьте [`Pipeline`](http://scikit-learn.org/stable/modules/generated/sklearn.pipeline.Pipeline.html), состоящий из `CountVectorizer()` и SVM с линейным ядром\n",
    "4. Исследуйте, как влияют размер n-грамм и величина штрафа `C` на предсказательную силу модели. Мера качества - accuracy."
   ]
  },
  {
   "cell_type": "code",
   "execution_count": null,
   "metadata": {
    "collapsed": true
   },
   "outputs": [],
   "source": [
    "RND_SEED = \n"
   ]
  },
  {
   "cell_type": "markdown",
   "metadata": {},
   "source": [
    "## Подход с пользовательским ядром\n",
    "### Подготовка данных (1 балла)\n",
    "\n",
    "Особенностью пользовательского ядра в sklean.SVC является то, что на вход оно может принимать на вход **только** вектора чисел.<br/>\n",
    "В нашем случае это будут индексы соответствующих слов из корпуса. То есть вместо вектора ['treat', 'celebrit', 'prince', ...] на вход в ядро подается вектор из индексов [9209, 11145, 7735, ...] с помощью которых вы будете находить сами слова.\n",
    "\n",
    "Прежде чем мы начнем строить ядро, надо подготовить данные. Для этого:\n",
    "1. Задайте переменную RND_SEED, которая будет использоваться в любых генераторах случайных чисел в вашем коде (обычно параметр \"random_seed\")\n",
    "2. Случайным образом перемешайте и заново проиндексируйте таблицу, полученную выше (используйте методы `df.sample()` и `df.reset_index()`)\n",
    "3. Ядро может вычисляться достаточно долго, поэтому можете урезать таблицу, но оставить в ней не менее 1000 слов.\n",
    "4. Разбейте данные на обучающую и контрольную выборку в пропорции 80/20\n",
    "\n",
    "В результате вы должны получить вектор-столбец `X_train`, `X_test` с **индексами** слов и векторы `y_train`, `y_test` с метками классов."
   ]
  },
  {
   "cell_type": "code",
   "execution_count": 47,
   "metadata": {
    "collapsed": true
   },
   "outputs": [],
   "source": [
    "RND_SEED = \n"
   ]
  },
  {
   "cell_type": "markdown",
   "metadata": {},
   "source": [
    "### Расчет ядра (2 балла)\n",
    "\n",
    "Теперь напишем собственное ядро для классификации строк. Для сравнения строк будем использовать [расстояние Левенштейна](https://ru.wikipedia.org/wiki/Расстояние_Левенштейна). Реализацию этого расстояния можно получить одним из двух способов:\n",
    "* скопировать функцию wfi_levenshtein из файла [pylev.py](https://github.com/toastdriven/pylev/blob/master/pylev.py)\n",
    "* поставить пакет [editdistance](https://pypi.python.org/pypi/editdistance) (будет работать быстрее, чем предыдущая реализация, но могут возникнуть проблемы с установкой)\n",
    "\n",
    "Ядро для сравнения строк должно принимать максимальное значение, когда слова одинаковы, и минимальное, когда очень отличаются. Это противоположно свойствам расстояния Левенштейна: оно равно 0, когда слова одинаковы, и максимально, когда слова разные. Поэтому подставьте значение расстояния Левенштейна в какое-нибудь ядро, зависящее от расстояния между объектами (например, гауссовское).\n",
    "\n",
    "Функция, реализующая расчет ядра должна принимать две матрицы $U$ и $V$ с признаковым описанием объектов (во время обучения они обе относятся к обучающей выборке, а во время применения - одна матрица относится к обучающей выборке, а другая к контрольной).\n",
    "Функция должна возвращать матрицу значений ядра для всех объектов попарно: $G_{ij} = K(U_i, V_j)$. Здесь $U_i$ — i-ый объект выборки $U$, а $V_j$ — j-ый объект выборки $V$.\n",
    "\n",
    "Сделайте следующее:\n",
    "1. Напишите функцию *string_kernel(U, V)*, расчитывающую матрицу ядра $G_{ij}$\n",
    "2. Визуализируйте матрицу только для тренировочной выборки (функция plt.imshow()).\n"
   ]
  },
  {
   "cell_type": "code",
   "execution_count": null,
   "metadata": {
    "collapsed": true
   },
   "outputs": [],
   "source": []
  },
  {
   "cell_type": "markdown",
   "metadata": {},
   "source": [
    "### Оценка качества (1 балл)\n",
    "\n",
    "Обучите метод опорных векторов с различными значениями параметра штрафа $C$.<br/>\n",
    "Для каждого значения выведите accuracy на обучащей и контрольной выборке.\n",
    "\n",
    "Постарайтесь достичь качества в 70% на тестовой выборке. Для улучшения качества можно увеличить размер тренировочной выборки. Но тогда обучение будет происходить дольше."
   ]
  },
  {
   "cell_type": "code",
   "execution_count": null,
   "metadata": {
    "collapsed": true
   },
   "outputs": [],
   "source": []
  }
 ],
 "metadata": {
  "anaconda-cloud": {},
  "kernelspec": {
   "display_name": "Python 3",
   "language": "python",
   "name": "python3"
  },
  "language_info": {
   "codemirror_mode": {
    "name": "ipython",
    "version": 3
   },
   "file_extension": ".py",
   "mimetype": "text/x-python",
   "name": "python",
   "nbconvert_exporter": "python",
   "pygments_lexer": "ipython3",
   "version": "3.6.1"
  },
  "nav_menu": {},
  "toc": {
   "colors": {
    "hover_highlight": "#DAA520",
    "navigate_num": "#000000",
    "navigate_text": "#333333",
    "running_highlight": "#FF0000",
    "selected_highlight": "#FFD700",
    "sidebar_border": "#EEEEEE",
    "wrapper_background": "#FFFFFF"
   },
   "moveMenuLeft": true,
   "nav_menu": {
    "height": "217px",
    "width": "253px"
   },
   "navigate_menu": true,
   "number_sections": false,
   "sideBar": true,
   "threshold": 4,
   "toc_cell": false,
   "toc_section_display": "block",
   "toc_window_display": true,
   "widenNotebook": false
  }
 },
 "nbformat": 4,
 "nbformat_minor": 1
}
